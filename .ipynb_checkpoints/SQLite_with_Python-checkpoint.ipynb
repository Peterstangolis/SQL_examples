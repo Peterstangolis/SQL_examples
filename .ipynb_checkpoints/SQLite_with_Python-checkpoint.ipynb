{
 "cells": [
  {
   "cell_type": "markdown",
   "metadata": {},
   "source": [
    "# SQLite Databases with Python\n",
    "\n",
    "[Tutorial Link](https://www.youtube.com/watch?v=byHcYRpMgI4)\n",
    "\n",
    "\n",
    "### Only has 5 datatypes to choose from\n",
    "- NULL\n",
    "- INTEGER\n",
    "- REAL\n",
    "- TEXT\n",
    "- BLOB (image, mp3)"
   ]
  },
  {
   "cell_type": "markdown",
   "metadata": {},
   "source": [
    "### Import required libraries"
   ]
  },
  {
   "cell_type": "code",
   "execution_count": 1,
   "metadata": {},
   "outputs": [],
   "source": [
    "import sqlite3"
   ]
  },
  {
   "cell_type": "markdown",
   "metadata": {},
   "source": [
    "### Create a connection to the database"
   ]
  },
  {
   "cell_type": "code",
   "execution_count": 9,
   "metadata": {},
   "outputs": [],
   "source": [
    "conn = sqlite3.connect(\"customer.db\")"
   ]
  },
  {
   "cell_type": "code",
   "execution_count": 3,
   "metadata": {},
   "outputs": [],
   "source": [
    "# You can use a sql database in memory(not saved)\n",
    "# conn = sqlite3.conect(':memory:')"
   ]
  },
  {
   "cell_type": "markdown",
   "metadata": {},
   "source": [
    "### Build a table to put data into"
   ]
  },
  {
   "cell_type": "code",
   "execution_count": 6,
   "metadata": {},
   "outputs": [],
   "source": [
    "# Create a cursor (tell database what to do)\n",
    "c = conn.cursor()\n",
    "\n",
    "# create a table\n",
    "c.execute(\"\"\" CREATE TABLE customers (\n",
    "        first_name TEXT,\n",
    "        last_name TEXT,\n",
    "        email TEXT\n",
    "    )\"\"\")\n",
    "\n",
    "# Commit our commmand\n",
    "conn.commit()"
   ]
  },
  {
   "cell_type": "markdown",
   "metadata": {},
   "source": [
    "### Close the connection"
   ]
  },
  {
   "cell_type": "code",
   "execution_count": 7,
   "metadata": {},
   "outputs": [],
   "source": [
    "conn.close()"
   ]
  },
  {
   "cell_type": "markdown",
   "metadata": {},
   "source": [
    "### Put data into our table"
   ]
  },
  {
   "cell_type": "code",
   "execution_count": 10,
   "metadata": {},
   "outputs": [],
   "source": [
    "# Create a cursor (tell database what to do)\n",
    "c = conn.cursor()\n",
    "\n",
    "# create a table\n",
    "c.execute(\" INSERT INTO customers VALUES ('John', 'Elder', 'john@codemy.com')\")\n",
    "\n",
    "# Commit our commmand\n",
    "conn.commit()"
   ]
  },
  {
   "cell_type": "code",
   "execution_count": 12,
   "metadata": {},
   "outputs": [],
   "source": [
    "# create a table\n",
    "c.execute(\" INSERT INTO customers VALUES ('Jane', 'Jackson', 'Jane_J@codemy.com')\")\n",
    "\n",
    "# Commit our commmand\n",
    "conn.commit()"
   ]
  },
  {
   "cell_type": "markdown",
   "metadata": {},
   "source": [
    "### Insert Many Records into the Database"
   ]
  },
  {
   "cell_type": "code",
   "execution_count": 13,
   "metadata": {},
   "outputs": [],
   "source": [
    "# Insert many\n",
    "\n",
    "many_customers = [('Jack', 'White', 'Jack@white.com'),\n",
    "                  ('Steph', 'Kang', 'steph@kang.com'),\n",
    "                  ('Dan', 'Pop', 'dan@pop.com')\n",
    "                 ]\n",
    "\n",
    "c.executemany(\" INSERT INTO customers VALUES (?,?,?) \", many_customers)\n",
    "\n",
    "# Commit our commmand\n",
    "conn.commit()"
   ]
  },
  {
   "cell_type": "markdown",
   "metadata": {},
   "source": [
    "## Query our database - fetchall"
   ]
  },
  {
   "cell_type": "code",
   "execution_count": 19,
   "metadata": {},
   "outputs": [
    {
     "name": "stdout",
     "output_type": "stream",
     "text": [
      "('John', 'Elder', 'john@codemy.com')\n"
     ]
    }
   ],
   "source": [
    "c = conn.cursor()\n",
    "\n",
    "c.execute(\"SELECT * FROM customers\")\n",
    "\n",
    "print(c.fetchone())\n",
    "#c.fetchmany(3)\n",
    "#print(c.fetchall())\n",
    "\n",
    "conn.commit()\n"
   ]
  },
  {
   "cell_type": "code",
   "execution_count": 29,
   "metadata": {},
   "outputs": [
    {
     "name": "stdout",
     "output_type": "stream",
     "text": [
      "NAME \t\tEMAIL\n",
      "--------- \t---------\n",
      "Elder, John \tjohn@codemy.com\n",
      "Ing, Tim \tTin_I@codemy.com\n",
      "Jackson, Jane \tJane_J@codemy.com\n",
      "White, Jack \tJack@white.com\n",
      "Kang, Steph \tsteph@kang.com\n",
      "Pop, Dan \tdan@pop.com\n"
     ]
    }
   ],
   "source": [
    "c = conn.cursor()\n",
    "\n",
    "c.execute(\"SELECT * FROM customers\")\n",
    "\n",
    "#print(c.fetchone())\n",
    "#c.fetchmany(3)\n",
    "#print(c.fetchall())\n",
    "\n",
    "items = c.fetchall()\n",
    "print(\"NAME \" \"\\t\\tEMAIL\")\n",
    "print(\"---------\", \"\\t---------\")\n",
    "for item in items:\n",
    "    print(item[1] + \", \" + item[0] + \" \\t\" + item[2] )\n",
    "\n",
    "conn.commit()"
   ]
  },
  {
   "cell_type": "markdown",
   "metadata": {},
   "source": [
    "## Primary Key ID\n",
    "\n",
    "- unique record that each item database gets\n"
   ]
  },
  {
   "cell_type": "code",
   "execution_count": 33,
   "metadata": {},
   "outputs": [
    {
     "name": "stdout",
     "output_type": "stream",
     "text": [
      "--------- \t\t---------\n",
      "(1, 'John', 'Elder', 'john@codemy.com')\n",
      "(2, 'Tim', 'Ing', 'Tin_I@codemy.com')\n",
      "(3, 'Jane', 'Jackson', 'Jane_J@codemy.com')\n",
      "(4, 'Jack', 'White', 'Jack@white.com')\n",
      "(5, 'Steph', 'Kang', 'steph@kang.com')\n",
      "(6, 'Dan', 'Pop', 'dan@pop.com')\n"
     ]
    }
   ],
   "source": [
    "# SQLite3 creates a primary key in the background\n",
    "# to access it:\n",
    "c = conn.cursor()\n",
    "\n",
    "c.execute(\"SELECT rowid, * FROM customers\")\n",
    "\n",
    "#print(c.fetchone())\n",
    "#c.fetchmany(3)\n",
    "#print(c.fetchall())\n",
    "\n",
    "items = c.fetchall()\n",
    "#print(\"NAME \" \"\\t\\tEMAIL\")\n",
    "print(\"---------\", \"\\t\\t---------\")\n",
    "for item in items:\n",
    "    print(item)\n",
    "\n",
    "conn.commit()\n"
   ]
  },
  {
   "cell_type": "markdown",
   "metadata": {},
   "source": [
    "## WHERE clause"
   ]
  },
  {
   "cell_type": "code",
   "execution_count": 34,
   "metadata": {},
   "outputs": [
    {
     "name": "stdout",
     "output_type": "stream",
     "text": [
      "('John', 'Elder', 'john@codemy.com')\n"
     ]
    }
   ],
   "source": [
    "c = conn.cursor()\n",
    "\n",
    "c.execute(\"SELECT * FROM customers WHERE last_name = 'Elder'\")\n",
    "\n",
    "items = c.fetchall()\n",
    "\n",
    "for item in items:\n",
    "    print(item)\n",
    "    \n",
    "    \n",
    "conn.commit()"
   ]
  },
  {
   "cell_type": "markdown",
   "metadata": {},
   "source": [
    "## UPDATE Records"
   ]
  },
  {
   "cell_type": "code",
   "execution_count": 37,
   "metadata": {},
   "outputs": [
    {
     "name": "stdout",
     "output_type": "stream",
     "text": [
      "('Peter', 'Elder', 'john@codemy.com')\n",
      "\n",
      "\n",
      "('Tim', 'Ing', 'Tin_I@codemy.com')\n",
      "\n",
      "\n",
      "('Jane', 'Jackson', 'Jane_J@codemy.com')\n",
      "\n",
      "\n",
      "('Jack', 'White', 'Jack@white.com')\n",
      "\n",
      "\n",
      "('Steph', 'Kang', 'steph@kang.com')\n",
      "\n",
      "\n",
      "('Dan', 'Pop', 'dan@pop.com')\n",
      "\n",
      "\n"
     ]
    }
   ],
   "source": [
    "# NOt the ideal method to accomplish this task (UPDATE)\n",
    "\n",
    "c.execute(\"\"\"UPDATE customers SET first_name = \"Peter\"\n",
    "            WHERE last_name  = 'Elder'\n",
    "\"\"\")\n",
    "\n",
    "conn.commit()\n",
    "\n",
    "c.execute(\"SELECT * FROM customers\")\n",
    "\n",
    "items=c.fetchall()\n",
    "for item in items:\n",
    "    print(item)\n",
    "    print('\\n')"
   ]
  },
  {
   "cell_type": "code",
   "execution_count": 39,
   "metadata": {},
   "outputs": [
    {
     "name": "stdout",
     "output_type": "stream",
     "text": [
      "(1, 'Donatello', 'Elder', 'john@codemy.com')\n",
      "\n",
      "\n",
      "(2, 'Tim', 'Ing', 'Tin_I@codemy.com')\n",
      "\n",
      "\n",
      "(3, 'Jane', 'Jackson', 'Jane_J@codemy.com')\n",
      "\n",
      "\n",
      "(4, 'Jack', 'White', 'Jack@white.com')\n",
      "\n",
      "\n",
      "(5, 'Steph', 'Kang', 'steph@kang.com')\n",
      "\n",
      "\n",
      "(6, 'Dan', 'Pop', 'dan@pop.com')\n",
      "\n",
      "\n"
     ]
    }
   ],
   "source": [
    "# using the rowid ensures only 1 entry is changed\n",
    "\n",
    "c.execute(\"\"\"UPDATE customers SET first_name = \"Donatello\"\n",
    "            WHERE rowid  = 1\n",
    "\"\"\")\n",
    "\n",
    "conn.commit()\n",
    "\n",
    "c.execute(\"SELECT rowid,* FROM customers\")\n",
    "\n",
    "items=c.fetchall()\n",
    "for item in items:\n",
    "    print(item)\n",
    "    print('\\n')"
   ]
  },
  {
   "cell_type": "markdown",
   "metadata": {},
   "source": [
    "## DELETE a record"
   ]
  },
  {
   "cell_type": "code",
   "execution_count": null,
   "metadata": {},
   "outputs": [],
   "source": [
    "c.execute(\"DELETE FROM customers WHERE rowid = 6 \")\n",
    "\n",
    "conn.commit()\n",
    "\n",
    "c.execute(\"SELECT rowid, * FROM customers\")\n",
    "\n",
    "items = c.fetchall()\n",
    "for item in items:\n",
    "    print(item)\n",
    "    print('\\n')"
   ]
  },
  {
   "cell_type": "markdown",
   "metadata": {},
   "source": [
    "## ORDER Results"
   ]
  },
  {
   "cell_type": "code",
   "execution_count": 43,
   "metadata": {},
   "outputs": [
    {
     "name": "stdout",
     "output_type": "stream",
     "text": [
      "(6, 'Dan', 'Pop', 'dan@pop.com')\n",
      "\n",
      "\n",
      "(5, 'Steph', 'Kang', 'steph@kang.com')\n",
      "\n",
      "\n",
      "(4, 'Jack', 'White', 'Jack@white.com')\n",
      "\n",
      "\n",
      "(3, 'Jane', 'Jackson', 'Jane_J@codemy.com')\n",
      "\n",
      "\n",
      "(2, 'Tim', 'Ing', 'Tin_I@codemy.com')\n",
      "\n",
      "\n",
      "(1, 'Donatello', 'Elder', 'john@codemy.com')\n",
      "\n",
      "\n"
     ]
    }
   ],
   "source": [
    "c.execute(\"SELECT rowid, * FROM customers ORDER BY rowid DESC\")\n",
    "\n",
    "conn.commit()\n",
    "\n",
    "items = c.fetchall()\n",
    "for item in items:\n",
    "    print(item)\n",
    "    print('\\n')\n"
   ]
  },
  {
   "cell_type": "markdown",
   "metadata": {},
   "source": [
    "## AND OR"
   ]
  },
  {
   "cell_type": "code",
   "execution_count": 46,
   "metadata": {},
   "outputs": [
    {
     "name": "stdout",
     "output_type": "stream",
     "text": [
      "(4, 'Jack', 'White', 'Jack@white.com')\n",
      "\n",
      "\n"
     ]
    }
   ],
   "source": [
    "c.execute(\"SELECT rowid, * FROM customers WHERE last_name LIKE 'W%' AND email LIKE '%@%' ORDER BY rowid DESC\")\n",
    "\n",
    "conn.commit()\n",
    "\n",
    "items = c.fetchall()\n",
    "for item in items:\n",
    "    print(item)\n",
    "    print('\\n')"
   ]
  },
  {
   "cell_type": "markdown",
   "metadata": {},
   "source": [
    "## LIMIT Results"
   ]
  },
  {
   "cell_type": "markdown",
   "metadata": {},
   "source": [
    "## DATABASE APP"
   ]
  },
  {
   "cell_type": "code",
   "execution_count": null,
   "metadata": {},
   "outputs": [],
   "source": [
    "# Create a function to show all the stuff in the table\n",
    "def show_all():\n",
    "    \n",
    "    # Connect to the database\n",
    "    conn - sqlite3.connect('customer.db')\n",
    "    # Create a cursor\n",
    "    c = conn.cursor()\n",
    "    \n",
    "    # Query the database\n",
    "    c.execute(\"SELECT rowid, * FROM customers\")\n",
    "    items = c.fetchall()\n",
    "    \n",
    "    for item in items:\n",
    "        print(item)\n",
    "        print('\\n')\n",
    "        \n",
    "    # Commit our command\n",
    "    conn.commit()\n",
    "    \n",
    "    # Close our connection\n",
    "    conn.close()"
   ]
  },
  {
   "cell_type": "code",
   "execution_count": null,
   "metadata": {},
   "outputs": [],
   "source": [
    "# Add a Record to a table Function\n",
    "def add_one(first, last, email):\n",
    "    conn=sqlite3.connect('customer.db')\n",
    "    c = conn.cursor()\n",
    "    c.execute(\"INSERT INTO customers VALUES (?, ?, ?)\", (first, last, email))\n",
    "    c.commit()\n",
    "    conn.close()"
   ]
  }
 ],
 "metadata": {
  "kernelspec": {
   "display_name": "py37",
   "language": "python",
   "name": "py37"
  },
  "language_info": {
   "codemirror_mode": {
    "name": "ipython",
    "version": 3
   },
   "file_extension": ".py",
   "mimetype": "text/x-python",
   "name": "python",
   "nbconvert_exporter": "python",
   "pygments_lexer": "ipython3",
   "version": "3.7.9"
  }
 },
 "nbformat": 4,
 "nbformat_minor": 4
}
